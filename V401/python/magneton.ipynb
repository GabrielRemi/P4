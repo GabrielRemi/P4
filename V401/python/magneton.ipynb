{
 "cells": [
  {
   "cell_type": "code",
   "execution_count": 8,
   "id": "initial_id",
   "metadata": {
    "collapsed": true,
    "ExecuteTime": {
     "end_time": "2023-12-16T15:12:48.291495424Z",
     "start_time": "2023-12-16T15:12:48.286631049Z"
    }
   },
   "outputs": [
    {
     "name": "stdout",
     "output_type": "stream",
     "text": [
      "('9.2', '1.2')\n"
     ]
    }
   ],
   "source": [
    "import numpy as np\n",
    "import pandas as pd\n",
    "from monke import functions as fct\n",
    "\n",
    "data = pd.read_csv(\"magneton.csv\").iloc[:2]\n",
    "magneton = data[\"Magneton\"].mean()\n",
    "magneton_err = data[\"Magneton\"].std() + data[\"Magneton Fehler\"].mean()\n",
    "print(fct.error_round(magneton*1e24, magneton_err*1e24,))"
   ]
  }
 ],
 "metadata": {
  "kernelspec": {
   "display_name": "Python 3",
   "language": "python",
   "name": "python3"
  },
  "language_info": {
   "codemirror_mode": {
    "name": "ipython",
    "version": 2
   },
   "file_extension": ".py",
   "mimetype": "text/x-python",
   "name": "python",
   "nbconvert_exporter": "python",
   "pygments_lexer": "ipython2",
   "version": "2.7.6"
  }
 },
 "nbformat": 4,
 "nbformat_minor": 5
}
