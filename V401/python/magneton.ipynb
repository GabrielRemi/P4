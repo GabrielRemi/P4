{
 "cells": [
  {
   "cell_type": "code",
   "execution_count": 8,
   "id": "initial_id",
   "metadata": {
    "collapsed": true,
    "ExecuteTime": {
     "end_time": "2023-12-16T15:12:48.291495424Z",
     "start_time": "2023-12-16T15:12:48.286631049Z"
    }
   },
   "outputs": [
    {
     "name": "stdout",
     "output_type": "stream",
     "text": [
      "('9.2', '1.2')\n"
     ]
    }
   ],
   "source": [
    "import numpy as np\n",
    "import pandas as pd\n",
    "from monke import functions as fct\n",
    "\n",
    "data = pd.read_csv(\"magneton.csv\").iloc[:2]\n",
    "magneton = data[\"Magneton\"].mean()\n",
    "magneton_err = data[\"Magneton\"].std() + data[\"Magneton Fehler\"].mean()\n",
    "print(fct.error_round(magneton*1e24, magneton_err*1e24,))"
   ]
  },
  {
   "cell_type": "markdown",
   "source": [
    "# Auflösungsvermögen + Finesse"
   ],
   "metadata": {
    "collapsed": false
   },
   "id": "8e115a305ab91d7f"
  },
  {
   "cell_type": "code",
   "execution_count": 27,
   "outputs": [
    {
     "name": "stdout",
     "output_type": "stream",
     "text": [
      "finesse = 9.622896416401165, A = 174168.44818256522\n"
     ]
    },
    {
     "name": "stderr",
     "output_type": "stream",
     "text": [
      "/home/gabriel/anaconda3/envs/p4_312/lib/python3.12/site-packages/pandas/core/arraylike.py:396: RuntimeWarning: overflow encountered in exp\n",
      "  result = getattr(ufunc, method)(*inputs, **kwargs)\n"
     ]
    },
    {
     "name": "stdout",
     "output_type": "stream",
     "text": [
      "auflösungsvermögen transversal: ('137000', '4000')\n",
      "auflösungsvermögen transversal: ('1.90000(30000)e5', 5)\n",
      "finessee trans: ('7.5', '0.3')\n",
      "finessee longitudinal: ('10.4', '1.7')\n"
     ]
    }
   ],
   "source": [
    "import pandas as pd\n",
    "import numpy as np\n",
    "from callibration import do_calibration\n",
    "from typing import Callable\n",
    "from monke import constants as ct\n",
    "from monke import functions as fct\n",
    "\n",
    "r = 0.85**2\n",
    "wavelength = 644e-9\n",
    "d = 4e-3\n",
    "n = 1.457\n",
    "mu = 9.274e-24\n",
    "\n",
    "finesse = np.pi * np.sqrt(r) / (1 - r)\n",
    "a = 2*n*d/wavelength * finesse\n",
    "\n",
    "print(f\"finesse = {finesse}, A = {a}\")\n",
    "\n",
    "data: pd.DataFrame = pd.DataFrame(np.loadtxt(\"../Data/Zeeman/kalibrierung_3.txt\", skiprows=1),\n",
    "                                             columns=[\"I / A\", \"B / mT\"]).query(\"`I / A` < 9.5\")\n",
    "_, _, bfield, _ = do_calibration(data, sy=1) # in mT\n",
    "\n",
    "i1 = (3.6, .1)\n",
    "i2 = (1.3, .2)\n",
    "a1 = ct.h*ct.c/(wavelength*mu*bfield(i1[0]) / 1000)\n",
    "a1_err = a1 * i1[1] / i1[0]\n",
    "print(f\"auflösungsvermögen transversal: {functions.error_round(a1, a1_err)}\")\n",
    "\n",
    "a2 = ct.h*ct.c/(wavelength*mu*bfield(i2[0]) / 1000)\n",
    "a2_err = a2 * i2[1] / i2[0]\n",
    "a2 /= 2\n",
    "a2_err /= 2\n",
    "\n",
    "print(f\"auflösungsvermögen transversal: {functions.error_round(a2, a2_err, \"scientific\")}\")\n",
    "\n",
    "finesse1 = a1*wavelength / (2*n*d), a1_err*wavelength / (2*n*d)\n",
    "finesse2 = a2*wavelength / (2*n*d), a2_err*wavelength / (2*n*d)\n",
    "print(f\"finessee trans: {fct.error_round(*finesse1)}\")\n",
    "print(f\"finessee longitudinal: {fct.error_round(*finesse2)}\")\n",
    "\n",
    "\n",
    "\n"
   ],
   "metadata": {
    "collapsed": false,
    "ExecuteTime": {
     "end_time": "2023-12-18T22:27:27.921713666Z",
     "start_time": "2023-12-18T22:27:27.644252967Z"
    }
   },
   "id": "67f739344b08fcf5"
  },
  {
   "cell_type": "markdown",
   "source": [
    "## Dopplerverbreiterung"
   ],
   "metadata": {
    "collapsed": false
   },
   "id": "7d2ce71e32104101"
  },
  {
   "cell_type": "code",
   "execution_count": 24,
   "outputs": [
    {
     "name": "stdout",
     "output_type": "stream",
     "text": [
      "Delta lambda = 1.3758048162472396 pm\n"
     ]
    }
   ],
   "source": [
    "t = 1000\n",
    "m = 112.4 * ct.u\n",
    "delta_l = wavelength / ct.c *np.sqrt(t*8*ct.kb*np.log(2) / m)\n",
    "print(f\"Delta lambda = {delta_l*1e12} pm\")\n"
   ],
   "metadata": {
    "collapsed": false,
    "ExecuteTime": {
     "end_time": "2023-12-18T22:20:56.069390037Z",
     "start_time": "2023-12-18T22:20:56.028097811Z"
    }
   },
   "id": "3c83821aa9d53b1f"
  }
 ],
 "metadata": {
  "kernelspec": {
   "display_name": "Python 3",
   "language": "python",
   "name": "python3"
  },
  "language_info": {
   "codemirror_mode": {
    "name": "ipython",
    "version": 2
   },
   "file_extension": ".py",
   "mimetype": "text/x-python",
   "name": "python",
   "nbconvert_exporter": "python",
   "pygments_lexer": "ipython2",
   "version": "2.7.6"
  }
 },
 "nbformat": 4,
 "nbformat_minor": 5
}
