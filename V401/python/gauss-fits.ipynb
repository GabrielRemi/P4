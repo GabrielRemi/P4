{
 "cells": [
  {
   "cell_type": "code",
   "execution_count": 2,
   "id": "initial_id",
   "metadata": {
    "collapsed": true,
    "ExecuteTime": {
     "end_time": "2023-12-15T21:57:40.875724446Z",
     "start_time": "2023-12-15T21:57:40.835091049Z"
    }
   },
   "outputs": [
    {
     "name": "stdout",
     "output_type": "stream",
     "text": [
      "-0.4480736161291701\n"
     ]
    }
   ],
   "source": [
    "import numpy as np\n",
    "import pandas as pd\n",
    "import matplotlib.pyplot as plt\n",
    "\n",
    "# data = pd.DataFrame(np.loadtxt(\"../Data/Zeeman3/i0.txt\", skiprows=1), columns=[\"degree\", \"intensity\"])\n",
    "# \n",
    "# data.query(\"-1.3 <= degree <= -.4\").plot(x=\"degree\", y=\"intensity\")\n",
    "\n",
    "# import gauss_fits_zeeman as gfz\n",
    "# \n",
    "# data = gfz.do_gauss_fits()\n",
    "# print(data)\n"
   ]
  }
 ],
 "metadata": {
  "kernelspec": {
   "display_name": "Python 3",
   "language": "python",
   "name": "python3"
  },
  "language_info": {
   "codemirror_mode": {
    "name": "ipython",
    "version": 2
   },
   "file_extension": ".py",
   "mimetype": "text/x-python",
   "name": "python",
   "nbconvert_exporter": "python",
   "pygments_lexer": "ipython2",
   "version": "2.7.6"
  }
 },
 "nbformat": 4,
 "nbformat_minor": 5
}
