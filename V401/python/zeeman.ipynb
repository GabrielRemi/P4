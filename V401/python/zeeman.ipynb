{
 "cells": [
  {
   "cell_type": "markdown",
   "id": "37b82a538e23e57b",
   "metadata": {
    "collapsed": false
   },
   "source": [
    "# Normaler Zeemann Effekt"
   ]
  },
  {
   "cell_type": "code",
   "execution_count": 105,
   "id": "initial_id",
   "metadata": {
    "collapsed": true,
    "ExecuteTime": {
     "end_time": "2023-12-15T12:37:24.726297241Z",
     "start_time": "2023-12-15T12:37:24.688350650Z"
    }
   },
   "outputs": [],
   "source": [
    "import os\n",
    "\n",
    "import matplotlib.pyplot as plt\n",
    "from scipy import odr, optimize\n",
    "from typing import Callable, Tuple\n",
    "import numpy as np\n",
    "import pandas as pd\n",
    "from monke import functions, plots, constants\n",
    "import scienceplots.styles\n",
    "\n",
    "plt.style.use(\"science\")\n",
    "plt.rcParams[\"figure.figsize\"] = [7, 5]\n",
    "plt.rcParams[\"figure.dpi\"] = 150\n",
    "\n"
   ]
  },
  {
   "cell_type": "markdown",
   "id": "a47bd960",
   "metadata": {},
   "source": [
    "## Kalibrationskurve\n",
    "Fitte an die Messung des Magnetfeldes in Abhängigkeit des Spulenstroms eine Funktion, um aus den Strömen\n",
    "das Magnetfeld bestimmen zu können. Dies wird für die Magnetfeldmessung vor und nach dem Versuch durchgeführt. Ein Fit \n",
    "wird mit der Anpassung \n",
    "$$B(I) = \\alpha + \\frac{\\beta}{(\\gamma + e^{-\\delta I})^{\\epsilon}}$$\n",
    "durchgeführt.\n",
    "\n",
    "Der Fehler für das Magnetfeld wird so bestimmt, das in den Daten ein Bereich ausgewählt wird, wo viele sequentielle Messungen bei konstantem \n",
    "Strom durchgeführt wurden. von den Magnetfelddaten wird die Standardabweichung gebildet und als konstanter Fehler genutzt.\n",
    "Dem Strom wird kein Fehler zugeordnet. Der Fit wird mit `scipy.optimize` durchgeführt. Da alle Messwerte einen \n",
    "gleichen Fehler besitzen, ist dieser für den Fit irrelevant. Wie man die Güte des Fits berechnet ist noch unklar."
   ]
  },
  {
   "cell_type": "code",
   "execution_count": 1,
   "id": "3bd2f729",
   "metadata": {
    "ExecuteTime": {
     "end_time": "2023-12-15T17:50:15.859146251Z",
     "start_time": "2023-12-15T17:50:15.752422479Z"
    }
   },
   "outputs": [
    {
     "ename": "NameError",
     "evalue": "name 'Callable' is not defined",
     "output_type": "error",
     "traceback": [
      "\u001B[0;31m---------------------------------------------------------------------------\u001B[0m",
      "\u001B[0;31mNameError\u001B[0m                                 Traceback (most recent call last)",
      "Cell \u001B[0;32mIn[1], line 1\u001B[0m\n\u001B[0;32m----> 1\u001B[0m func \u001B[38;5;241m=\u001B[39m \u001B[43mCallable\u001B[49m[[\u001B[38;5;28mfloat\u001B[39m], \u001B[38;5;28mfloat\u001B[39m]\n\u001B[1;32m      3\u001B[0m \u001B[38;5;28;01mdef\u001B[39;00m \u001B[38;5;21mfit_function\u001B[39m(x: \u001B[38;5;28mfloat\u001B[39m, a: \u001B[38;5;28mfloat\u001B[39m, b: \u001B[38;5;28mfloat\u001B[39m, c: \u001B[38;5;28mfloat\u001B[39m, d: \u001B[38;5;28mfloat\u001B[39m, e: \u001B[38;5;28mfloat\u001B[39m) \u001B[38;5;241m-\u001B[39m\u001B[38;5;241m>\u001B[39m \u001B[38;5;28mfloat\u001B[39m:\n\u001B[1;32m      4\u001B[0m \u001B[38;5;250m    \u001B[39m\u001B[38;5;124;03m\"\"\"Fit Funktion für das Magnetfeld nach der oben beschriebenen Formel\"\"\"\u001B[39;00m\n",
      "\u001B[0;31mNameError\u001B[0m: name 'Callable' is not defined"
     ]
    }
   ],
   "source": [
    "func = Callable[[float], float]\n",
    "\n",
    "def fit_function(x: float, a: float, b: float, c: float, d: float, e: float) -> float:\n",
    "    \"\"\"Fit Funktion für das Magnetfeld nach der oben beschriebenen Formel\"\"\"\n",
    "    denom = (c + np.exp(-d*x))**e\n",
    "\n",
    "    return a + b / denom\n",
    "    \n",
    "\n",
    "def do_calibration(data: pd.DataFrame, sy) -> Tuple[any, any, func]:\n",
    "    \"\"\"Führe mit scipy.optimize eine Funktionsanpassung an den Datensatz durch\"\"\"\n",
    "    x = data[\"I / A\"]\n",
    "    y = data[\"B / mT\"]\n",
    "    \n",
    "    popt, pcov = optimize.curve_fit(fit_function, x, y)\n",
    "    \n",
    "    return popt, pcov, lambda x: fit_function(x, *popt)\n",
    "\n",
    "# Lese die Daten ein\n",
    "data_before: pd.DataFrame = pd.DataFrame(np.loadtxt(\"../Data/Zeeman2/kalibrierung_nachher.txt\", skiprows=1), columns=[\"I / A\", \"B / mT\"])\n",
    "data_after: pd.DataFrame = pd.DataFrame(np.loadtxt(\"../Data/Zeeman3/kalibrierung_nachher.txt\", skiprows=1), columns=[\"I / A\", \"B / mT\"])\n",
    "#data_after.plot(kind=\"scatter\", x=\"I / A\", y=\"B / mT\")\n",
    "\n",
    "data_std: float = round(np.std(data_before[200:][\"B / mT\"]), 1)\n",
    "\n",
    "# Führe Kalibration durch\n",
    "beta_before, sd_beta_before, bfield_before = do_calibration(data_before, data_std)\n",
    "beta_after, sd_beta_after, bfield_after = do_calibration(data_after, data_std)\n",
    "\n",
    "# Plotte die Fits\n",
    "fig, ax = plt.subplots()\n",
    "ax.set_xlabel(r\"$I / \\mathrm{A}$\")\n",
    "ax.set_ylabel(r\"$B / \\mathrm{mT}$\")\n",
    "\n",
    "ax.errorbar(data_before[\"I / A\"], data_before[\"B / mT\"], yerr=data_std, \n",
    "            linestyle=\"\", ms=3, marker=\"o\", label=\"Messung vorher\", color=\"tab:cyan\")\n",
    "ax.plot(data_before[\"I / A\"], bfield_before(data_before[\"I / A\"]), label=\"Anpassung\", color=\"tab:cyan\")\n",
    "\n",
    "ax.errorbar(data_after[\"I / A\"], data_after[\"B / mT\"], yerr=data_std, \n",
    "            linestyle=\"\", ms=3, marker=\"o\", label=\"Messung nachher\", color=\"tab:green\")\n",
    "ax.plot(data_after[\"I / A\"], bfield_after(data_after[\"I / A\"]), label=\"Anpassung\", color=\"tab:green\")\n",
    "\n",
    "plots.legend(ax)\n",
    "fig.savefig(\"../figs/BFeld-Kalibrationskurve.pdf\", dpi=200)\n",
    "#plt.show()\n",
    "\n",
    " \n"
   ]
  },
  {
   "cell_type": "markdown",
   "source": [
    "## Gauss Fits an erstes äußeres Maximum\n",
    "Aufgrund der Zeeman-Aufspaltung sind die Maxima der Interferenzkurven in drei symmetrische (hoffentlich) Gauss-Kurven \n",
    "aufgespalten. Mit `scipy.odr` wird damit für alle gemessenen Ströme die Winkelaufspaltung bestimmt.\n",
    "\n",
    "\n"
   ],
   "metadata": {
    "collapsed": false
   },
   "id": "4b4c17a990447f3b"
  },
  {
   "cell_type": "markdown",
   "source": [],
   "metadata": {
    "collapsed": false
   },
   "id": "e3a0c1197362c2c8"
  }
 ],
 "metadata": {
  "kernelspec": {
   "display_name": "Python 3",
   "language": "python",
   "name": "python3"
  },
  "language_info": {
   "codemirror_mode": {
    "name": "ipython",
    "version": 3
   },
   "file_extension": ".py",
   "mimetype": "text/x-python",
   "name": "python",
   "nbconvert_exporter": "python",
   "pygments_lexer": "ipython3",
   "version": "3.12.0"
  }
 },
 "nbformat": 4,
 "nbformat_minor": 5
}
