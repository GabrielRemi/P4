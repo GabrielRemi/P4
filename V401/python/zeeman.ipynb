{
 "cells": [
  {
   "cell_type": "markdown",
   "id": "37b82a538e23e57b",
   "metadata": {
    "collapsed": false
   },
   "source": [
    "# Normaler Zeemann Effekt"
   ]
  },
  {
   "cell_type": "code",
   "execution_count": 1,
   "id": "initial_id",
   "metadata": {
    "collapsed": true,
    "ExecuteTime": {
     "end_time": "2023-12-14T17:29:07.260172887Z",
     "start_time": "2023-12-14T17:29:07.199939312Z"
    }
   },
   "outputs": [],
   "source": [
    "import os\n",
    "import numpy as np\n"
   ]
  },
  {
   "cell_type": "markdown",
   "id": "a47bd960",
   "metadata": {},
   "source": [
    "## Kalibrationskurve\n",
    "Fitte an die Messung des Magnetfeldes in Abhängigkeit des Spulenstroms eine Funktion, um aus den Ströme \n",
    "das Magnetfeld bestimmen zu können. Dies wird für die Magnetfeldmessung vor und nach dem Versuch durchgeführt. Ein Fit \n",
    "wird mit der Anpassung \n",
    "$$B(I) = \\alpha + \\frac{\\beta}{(\\gamma + e^{-\\delta I})^{\\epsilon}}$$\n",
    "durchgeführt"
   ]
  },
  {
   "cell_type": "code",
   "execution_count": 2,
   "id": "3bd2f729",
   "metadata": {
    "ExecuteTime": {
     "end_time": "2023-12-14T17:29:07.746628748Z",
     "start_time": "2023-12-14T17:29:07.296690714Z"
    }
   },
   "outputs": [
    {
     "name": "stdout",
     "output_type": "stream",
     "text": [
      "<class 'function'>\n"
     ]
    },
    {
     "name": "stderr",
     "output_type": "stream",
     "text": [
      "/tmp/ipykernel_38039/2468508029.py:8: RuntimeWarning: overflow encountered in exp\n",
      "  denom = (c + np.exp(-d*x))**(1/e)\n",
      "/tmp/ipykernel_38039/2468508029.py:8: RuntimeWarning: invalid value encountered in power\n",
      "  denom = (c + np.exp(-d*x))**(1/e)\n",
      "/tmp/ipykernel_38039/2468508029.py:10: RuntimeWarning: divide by zero encountered in divide\n",
      "  return a + b / denom\n"
     ]
    },
    {
     "data": {
      "text/plain": "<Figure size 640x480 with 1 Axes>",
      "image/png": "[encoded data removed]"
     },
     "metadata": {},
     "output_type": "display_data"
    }
   ],
   "source": [
    "import matplotlib.pyplot as plt\n",
    "from scipy import odr, optimize\n",
    "from typing import Callable\n",
    "\n",
    "func = Callable[[float], float]\n",
    "\n",
    "def fit_function(x: float, a, b, c, d, e) -> float:\n",
    "    \"\"\"Fit Funktion für das Magnetfeld nach dem oben beschriebenen Schema\"\"\"\n",
    "    \n",
    "    denom = (c + np.exp(-d*x))**(1/e)\n",
    "    \n",
    "    return a + b / denom\n",
    "\n",
    "def do_fit(data: np.ndarray) -> any:\n",
    "    \"\"\"führt für einen Datensatz einen fit durch\"\"\"\n",
    "    assert(len(data) == 2)\n",
    "    \n",
    "    return optimize.curve_fit(fit_function, *data)\n",
    "    \n",
    " \n",
    "bfield_before: func | None = None\n",
    "bfield_after: func | None = None\n",
    " \n",
    "fig, ax = plt.subplots()\n",
    "for i in [[\"ende\", \"nachher\"], [\"3\", \"vorher\"]]:\n",
    "    data = np.loadtxt(f\"../Data/Zeeman/kalibrierung_{i[0]}.txt\", skiprows=1).transpose().__abs__()\n",
    "    ax.scatter(*data, s = 3, label=i[1])\n",
    "    popt, pcov = do_fit(data)\n",
    "    fit = lambda x: fit_function(x, *popt)\n",
    "    \n",
    "    if i[1] ==  \"vorher\":\n",
    "        bfield_before = fit\n",
    "    else:\n",
    "        bfield_after = fit\n",
    "\n",
    "print(type(bfield_before))\n",
    "plt.legend()\n",
    "plt.show()"
   ]
  },
  {
   "cell_type": "code",
   "execution_count": 2,
   "id": "46a7dae1",
   "metadata": {
    "ExecuteTime": {
     "end_time": "2023-12-14T17:29:07.746853993Z",
     "start_time": "2023-12-14T17:29:07.745426441Z"
    }
   },
   "outputs": [],
   "source": []
  },
  {
   "cell_type": "code",
   "execution_count": 2,
   "id": "2fe81fb7",
   "metadata": {
    "ExecuteTime": {
     "end_time": "2023-12-14T17:29:07.750382Z",
     "start_time": "2023-12-14T17:29:07.747948056Z"
    }
   },
   "outputs": [],
   "source": []
  }
 ],
 "metadata": {
  "kernelspec": {
   "display_name": "Python 3",
   "language": "python",
   "name": "python3"
  },
  "language_info": {
   "codemirror_mode": {
    "name": "ipython",
    "version": 3
   },
   "file_extension": ".py",
   "mimetype": "text/x-python",
   "name": "python",
   "nbconvert_exporter": "python",
   "pygments_lexer": "ipython3",
   "version": "3.12.0"
  }
 },
 "nbformat": 4,
 "nbformat_minor": 5
}
